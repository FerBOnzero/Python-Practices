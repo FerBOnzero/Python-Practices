{
 "cells": [
  {
   "cell_type": "code",
   "execution_count": 1,
   "id": "3e5cec55",
   "metadata": {},
   "outputs": [],
   "source": [
    "import re"
   ]
  },
  {
   "cell_type": "code",
   "execution_count": 8,
   "id": "139cfb29",
   "metadata": {},
   "outputs": [
    {
     "name": "stdout",
     "output_type": "stream",
     "text": [
      "['2', '2', '2', '2']\n",
      "['2', '2', '22']\n"
     ]
    }
   ],
   "source": [
    "x = 'My 2 2 favorite numbers 22'\n",
    "y = re.findall('[0-9]', x)\n",
    "print(y)\n",
    "print(re.findall('[0-9]+', x))"
   ]
  },
  {
   "cell_type": "code",
   "execution_count": 11,
   "id": "fd64cce2",
   "metadata": {},
   "outputs": [
    {
     "name": "stdout",
     "output_type": "stream",
     "text": [
      "['A', 'E', 'O']\n",
      "[' B', 'B', ' miau']\n"
     ]
    }
   ],
   "source": [
    "z = 'A BEBO miau'\n",
    "print(re.findall('[AEIOU]+', z))\n",
    "print(re.findall('[^AEIOU]+', z))"
   ]
  },
  {
   "cell_type": "code",
   "execution_count": 20,
   "id": "1c09ca25",
   "metadata": {},
   "outputs": [
    {
     "name": "stdout",
     "output_type": "stream",
     "text": [
      "[' ', ' ']\n",
      "['A', 'B', 'E', 'B', 'O', 'm', 'i', 'a', 'u']\n",
      "['A', 'BEBO', 'miau']\n",
      "['BE']\n"
     ]
    }
   ],
   "source": [
    "print(re.findall('\\s', z))\n",
    "print(re.findall('\\S', z))\n",
    "print(re.findall('\\S+', z))\n",
    "print(re.findall('\\S+E', z)) #print(re.findall('\\S+E\\S+b', z))"
   ]
  },
  {
   "cell_type": "code",
   "execution_count": 21,
   "id": "32602ca0",
   "metadata": {},
   "outputs": [
    {
     "name": "stdout",
     "output_type": "stream",
     "text": [
      "17\n",
      "gmail.com\n"
     ]
    }
   ],
   "source": [
    "data = 'From bebosaurio07@gmail.com Sat Jan 5 09:14:16'\n",
    "atpos = data.find('@')\n",
    "print(atpos)\n",
    "sppos = data.find(' ', atpos) #we start in the atpos position \n",
    "host = data[atpos+1:sppos]\n",
    "print(host)"
   ]
  },
  {
   "cell_type": "code",
   "execution_count": 23,
   "id": "2c63be0a",
   "metadata": {},
   "outputs": [
    {
     "name": "stdout",
     "output_type": "stream",
     "text": [
      "['gmail.com']\n"
     ]
    }
   ],
   "source": [
    "print(re.findall('@([^ ]*)', data)) #[^ ] todo lo que no sea espacio en blanco"
   ]
  },
  {
   "cell_type": "code",
   "execution_count": null,
   "id": "c282c497",
   "metadata": {},
   "outputs": [],
   "source": []
  }
 ],
 "metadata": {
  "kernelspec": {
   "display_name": "Python 3",
   "language": "python",
   "name": "python3"
  },
  "language_info": {
   "codemirror_mode": {
    "name": "ipython",
    "version": 3
   },
   "file_extension": ".py",
   "mimetype": "text/x-python",
   "name": "python",
   "nbconvert_exporter": "python",
   "pygments_lexer": "ipython3",
   "version": "3.8.8"
  }
 },
 "nbformat": 4,
 "nbformat_minor": 5
}

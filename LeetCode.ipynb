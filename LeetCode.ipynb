{
 "cells": [
  {
   "cell_type": "code",
   "execution_count": 1,
   "id": "9cd9868e",
   "metadata": {},
   "outputs": [],
   "source": [
    "import numpy as np"
   ]
  },
  {
   "cell_type": "code",
   "execution_count": 2,
   "id": "ba439b1a",
   "metadata": {},
   "outputs": [
    {
     "name": "stdout",
     "output_type": "stream",
     "text": [
      "miau\n"
     ]
    }
   ],
   "source": [
    "a = [9,2,3]\n",
    "b = [2,4,5]\n",
    "a + b\n",
    "a.sort()\n",
    "if len(a)%2:\n",
    "    print('miau')"
   ]
  },
  {
   "cell_type": "code",
   "execution_count": 3,
   "id": "df8b6944",
   "metadata": {},
   "outputs": [
    {
     "data": {
      "text/plain": [
       "0"
      ]
     },
     "execution_count": 3,
     "metadata": {},
     "output_type": "execute_result"
    }
   ],
   "source": [
    "len([1,2])%2"
   ]
  },
  {
   "cell_type": "code",
   "execution_count": 4,
   "id": "c4a7d1b8",
   "metadata": {},
   "outputs": [],
   "source": [
    "def unique1(list1):\n",
    " \n",
    "    # intilize a null list\n",
    "    unique_list = []\n",
    "     \n",
    "    # traverse for all elements\n",
    "    for x in list1:\n",
    "        # check if exists in unique_list or not\n",
    "        if x not in unique_list:\n",
    "            unique_list.append(x)\n",
    "    # print list\n",
    "    return unique_list"
   ]
  },
  {
   "cell_type": "code",
   "execution_count": 5,
   "id": "06489b44",
   "metadata": {
    "scrolled": true
   },
   "outputs": [
    {
     "data": {
      "text/plain": [
       "[1, 2, 3, 4, 5, 8, 10]"
      ]
     },
     "execution_count": 5,
     "metadata": {},
     "output_type": "execute_result"
    }
   ],
   "source": [
    "testMedian = unique1([1,8,10,3]+[2,3,4,4,5])\n",
    "testMedian.sort()\n",
    "testMedian"
   ]
  },
  {
   "cell_type": "code",
   "execution_count": 6,
   "id": "efe234bf",
   "metadata": {},
   "outputs": [],
   "source": [
    "class Solution:\n",
    "    def __init__(self, nums1, nums2):\n",
    "        self.nums1 = nums1\n",
    "        self.nums2 = nums2\n",
    "    \n",
    "\n",
    "    def findMedianSortedArrays(self):\n",
    "        unique_list = []\n",
    "        listSorted = self.nums1 + self.nums2\n",
    "        for x in listSorted:\n",
    "            if x not in unique_list:\n",
    "                unique_list.append(x)\n",
    "        unique_list.sort()\n",
    "        if len(unique_list) % 2 == 1:\n",
    "            indice = int((len(unique_list) - 1)/2)\n",
    "            return float(unique_list[indice])  \n",
    "        else:\n",
    "            indice = int(len(unique_list)/2)\n",
    "            median = sum(unique_list[indice -1 :indice +1])/2 \n",
    "            return float(median)"
   ]
  },
  {
   "cell_type": "code",
   "execution_count": 10,
   "id": "eccd39de",
   "metadata": {},
   "outputs": [
    {
     "data": {
      "text/plain": [
       "7"
      ]
     },
     "execution_count": 10,
     "metadata": {},
     "output_type": "execute_result"
    }
   ],
   "source": [
    "len([1, 2, 3, 4, 5, 8, 10])"
   ]
  },
  {
   "cell_type": "code",
   "execution_count": 11,
   "id": "a72a5efe",
   "metadata": {},
   "outputs": [
    {
     "data": {
      "text/plain": [
       "1"
      ]
     },
     "execution_count": 11,
     "metadata": {},
     "output_type": "execute_result"
    }
   ],
   "source": [
    "7%2"
   ]
  },
  {
   "cell_type": "code",
   "execution_count": 7,
   "id": "d18a08bb",
   "metadata": {
    "scrolled": true
   },
   "outputs": [
    {
     "data": {
      "text/plain": [
       "4.0"
      ]
     },
     "execution_count": 7,
     "metadata": {},
     "output_type": "execute_result"
    }
   ],
   "source": [
    "Example = Solution([1,8,10,3], [2,3,4,4,5])\n",
    "Example.findMedianSortedArrays()"
   ]
  },
  {
   "cell_type": "code",
   "execution_count": 8,
   "id": "91426acd",
   "metadata": {},
   "outputs": [
    {
     "data": {
      "text/plain": [
       "3.0"
      ]
     },
     "execution_count": 8,
     "metadata": {},
     "output_type": "execute_result"
    }
   ],
   "source": [
    "example2 = Solution([1,2], [2,4,6])\n",
    "example2.findMedianSortedArrays()"
   ]
  },
  {
   "cell_type": "code",
   "execution_count": 9,
   "id": "60dcfdac",
   "metadata": {},
   "outputs": [
    {
     "data": {
      "text/plain": [
       "1.0"
      ]
     },
     "execution_count": 9,
     "metadata": {},
     "output_type": "execute_result"
    }
   ],
   "source": [
    "example3 = Solution([1], [])\n",
    "example3.findMedianSortedArrays()"
   ]
  },
  {
   "cell_type": "code",
   "execution_count": 12,
   "id": "45dd75a8",
   "metadata": {},
   "outputs": [
    {
     "data": {
      "text/plain": [
       "[1, 2, 3, 4, 5, 8, 10]"
      ]
     },
     "execution_count": 12,
     "metadata": {},
     "output_type": "execute_result"
    }
   ],
   "source": [
    "#other way to get unique values in a list:\n",
    "example_other_way = [1,8,10,3]+[2,3,4,4,5]\n",
    "uniques_values = set(example_other_way)\n",
    "uniques_values = list(uniques_values)\n",
    "uniques_values"
   ]
  },
  {
   "cell_type": "code",
   "execution_count": 22,
   "id": "4b135358",
   "metadata": {},
   "outputs": [
    {
     "data": {
      "text/plain": [
       "[1, 2, 3, 4, 5, 8, 10]"
      ]
     },
     "execution_count": 22,
     "metadata": {},
     "output_type": "execute_result"
    }
   ],
   "source": [
    "#other and maybe de best way to get unique values and sort a list:\n",
    "arrayUnique = np.array(example_other_way)\n",
    "arrayUnique = np.unique(arrayUnique)\n",
    "list_new = arrayUnique.tolist()\n",
    "list_new"
   ]
  },
  {
   "cell_type": "code",
   "execution_count": 24,
   "id": "1a8260ab",
   "metadata": {},
   "outputs": [
    {
     "data": {
      "text/plain": [
       "[1, 2, 3, 4, 5, 8, 10]"
      ]
     },
     "execution_count": 24,
     "metadata": {},
     "output_type": "execute_result"
    }
   ],
   "source": [
    "#this is the best way xd \n",
    "listCleaner = sorted(set([1,8,10,3]+[2,3,4,4,5]))\n",
    "listCleaner"
   ]
  },
  {
   "cell_type": "code",
   "execution_count": 2,
   "id": "4da2b268",
   "metadata": {},
   "outputs": [],
   "source": [
    "#Best practice\n",
    "class SolutionBetter:\n",
    "    def __init__(self, nums1, nums2):\n",
    "        self.nums1 = nums1\n",
    "        self.nums2 = nums2\n",
    "    \n",
    "\n",
    "    def findMedianSortedArrays(self):\n",
    "        listSorted = sorted(set(self.nums1 + self.nums2))\n",
    "        if len(listSorted) % 2 == 1:\n",
    "            indice = int((len(listSorted) - 1)/2)\n",
    "            return float(listSorted[indice])  \n",
    "        else:\n",
    "            indice = int(len(listSorted)/2)\n",
    "            median = sum(listSorted[indice -1 :indice +1])/2 \n",
    "            return float(median)"
   ]
  },
  {
   "cell_type": "code",
   "execution_count": null,
   "id": "8907f081",
   "metadata": {},
   "outputs": [],
   "source": [
    "[1,2,3,4] = [4,3,2,1]"
   ]
  },
  {
   "cell_type": "code",
   "execution_count": 5,
   "id": "aa0a08fa",
   "metadata": {},
   "outputs": [
    {
     "data": {
      "text/plain": [
       "4.0"
      ]
     },
     "execution_count": 5,
     "metadata": {},
     "output_type": "execute_result"
    }
   ],
   "source": [
    "Example2 = SolutionBetter([1,8,10,3], [2,3,4,4,5])\n",
    "Example2.findMedianSortedArrays()"
   ]
  },
  {
   "cell_type": "code",
   "execution_count": 6,
   "id": "d1d736ab",
   "metadata": {},
   "outputs": [
    {
     "data": {
      "text/plain": [
       "[1, 2, 3, 4, 5, 8, 10]"
      ]
     },
     "execution_count": 6,
     "metadata": {},
     "output_type": "execute_result"
    }
   ],
   "source": [
    "array = [1,8,10,3]+[2,3,4,4,5]\n",
    "sorted(set(array))"
   ]
  },
  {
   "cell_type": "code",
   "execution_count": 41,
   "id": "8f4f2d54",
   "metadata": {},
   "outputs": [],
   "source": [
    "from collections import defaultdict\n",
    "from collections import Counter"
   ]
  },
  {
   "cell_type": "code",
   "execution_count": 33,
   "id": "23e49b09",
   "metadata": {},
   "outputs": [],
   "source": [
    "with open('wordCount.txt', 'w') as wordCount_file:\n",
    "    for number in range(13):\n",
    "        square = 'Hola, soy el Bebo'\n",
    "        wordCount_file.write(str(square) + '\\n')"
   ]
  },
  {
   "cell_type": "code",
   "execution_count": 43,
   "id": "e392c0d9",
   "metadata": {
    "scrolled": true
   },
   "outputs": [
    {
     "data": {
      "text/plain": [
       "defaultdict(int,\n",
       "            {'H': 13,\n",
       "             'o': 39,\n",
       "             'l': 26,\n",
       "             'a': 13,\n",
       "             ',': 13,\n",
       "             ' ': 39,\n",
       "             's': 13,\n",
       "             'y': 13,\n",
       "             'e': 26,\n",
       "             'B': 13,\n",
       "             'b': 13,\n",
       "             '\\n': 13})"
      ]
     },
     "execution_count": 43,
     "metadata": {},
     "output_type": "execute_result"
    }
   ],
   "source": [
    "fhand = open('wordCount.txt')\n",
    "word_counts = defaultdict(int)\n",
    "for word in fhand:\n",
    "    for i in word:\n",
    "        word_counts[i]+=1\n",
    "word_counts"
   ]
  },
  {
   "cell_type": "code",
   "execution_count": 47,
   "id": "32295ae0",
   "metadata": {
    "scrolled": true
   },
   "outputs": [
    {
     "data": {
      "text/plain": [
       "Counter({'Hola, soy el Bebo\\n': 13})"
      ]
     },
     "execution_count": 47,
     "metadata": {},
     "output_type": "execute_result"
    }
   ],
   "source": [
    "Counter(open('wordCount.txt'))"
   ]
  }
 ],
 "metadata": {
  "kernelspec": {
   "display_name": "Python 3",
   "language": "python",
   "name": "python3"
  },
  "language_info": {
   "codemirror_mode": {
    "name": "ipython",
    "version": 3
   },
   "file_extension": ".py",
   "mimetype": "text/x-python",
   "name": "python",
   "nbconvert_exporter": "python",
   "pygments_lexer": "ipython3",
   "version": "3.8.8"
  }
 },
 "nbformat": 4,
 "nbformat_minor": 5
}

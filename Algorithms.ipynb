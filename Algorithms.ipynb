{
 "cells": [
  {
   "cell_type": "code",
   "execution_count": 13,
   "id": "f21bdf4a",
   "metadata": {
    "scrolled": false
   },
   "outputs": [
    {
     "data": {
      "text/plain": [
       "-6"
      ]
     },
     "execution_count": 13,
     "metadata": {},
     "output_type": "execute_result"
    }
   ],
   "source": [
    "array = [4,5,3,24,5,7,1,-5,-6,-3]\n",
    "def min2(array):\n",
    "    for i in range(len(array)): \n",
    "        if array[i] < array[0]:\n",
    "            array[0] = array[i]\n",
    "    return (array[0])\n",
    "min2(array)"
   ]
  },
  {
   "cell_type": "code",
   "execution_count": 14,
   "id": "898007b0",
   "metadata": {},
   "outputs": [
    {
     "data": {
      "text/plain": [
       "1"
      ]
     },
     "execution_count": 14,
     "metadata": {},
     "output_type": "execute_result"
    }
   ],
   "source": [
    "array_example = [1,2,3,4,5,6,7,8,10]\n",
    "min2(array_example)"
   ]
  },
  {
   "cell_type": "code",
   "execution_count": 15,
   "id": "a298fd71",
   "metadata": {},
   "outputs": [],
   "source": [
    "def minimun(array): \n",
    "    if len(array) > 0:\n",
    "        for i in range(len(array)): \n",
    "            if array[i] < array[0]:\n",
    "                array[0] = array[i]\n",
    "            return (array[0])\n",
    "    else:\n",
    "        return 0"
   ]
  },
  {
   "cell_type": "code",
   "execution_count": 16,
   "id": "1affc298",
   "metadata": {
    "scrolled": true
   },
   "outputs": [
    {
     "data": {
      "text/plain": [
       "0"
      ]
     },
     "execution_count": 16,
     "metadata": {},
     "output_type": "execute_result"
    }
   ],
   "source": [
    "minimun([])"
   ]
  },
  {
   "cell_type": "code",
   "execution_count": 17,
   "id": "cf9f8189",
   "metadata": {},
   "outputs": [],
   "source": [
    "def minimunRec(array): \n",
    "        if len(array) == 1:\n",
    "            return array[0]\n",
    "        elif array[1] < array[0]:\n",
    "            array[0] = array[1]\n",
    "            array.remove(array[1])\n",
    "            return minimunRec(array)\n",
    "        else:\n",
    "            array.remove(array[1])\n",
    "            return minimunRec(array)"
   ]
  },
  {
   "cell_type": "code",
   "execution_count": 18,
   "id": "d58aaf73",
   "metadata": {},
   "outputs": [],
   "source": [
    "def removeElements(array):\n",
    "    for i in range(len(array)):\n",
    "        array.remove(array[i])\n",
    "        print(\"remove the element: \", array[i])\n",
    "    return array"
   ]
  },
  {
   "cell_type": "code",
   "execution_count": 19,
   "id": "9b2ac6c4",
   "metadata": {},
   "outputs": [],
   "source": [
    "#removeElements([4,5,3,24,5,7,1,-5,-6,-3])"
   ]
  },
  {
   "cell_type": "code",
   "execution_count": 20,
   "id": "40462913",
   "metadata": {},
   "outputs": [],
   "source": [
    "array2 = [4,5,3,24,5,7,1,-5,-6,-3]"
   ]
  },
  {
   "cell_type": "code",
   "execution_count": 21,
   "id": "4ffa9cb6",
   "metadata": {},
   "outputs": [
    {
     "data": {
      "text/plain": [
       "[4, 3, 24, 5, 7, 1, -5, -6, -3]"
      ]
     },
     "execution_count": 21,
     "metadata": {},
     "output_type": "execute_result"
    }
   ],
   "source": [
    "array2.remove(array2[1])\n",
    "array2"
   ]
  },
  {
   "cell_type": "code",
   "execution_count": 22,
   "id": "c65a74d1",
   "metadata": {
    "scrolled": false
   },
   "outputs": [
    {
     "data": {
      "text/plain": [
       "-6"
      ]
     },
     "execution_count": 22,
     "metadata": {},
     "output_type": "execute_result"
    }
   ],
   "source": [
    "minimunRec(array2)"
   ]
  },
  {
   "cell_type": "code",
   "execution_count": 23,
   "id": "b3f4707f",
   "metadata": {},
   "outputs": [
    {
     "data": {
      "text/plain": [
       "-90000"
      ]
     },
     "execution_count": 23,
     "metadata": {},
     "output_type": "execute_result"
    }
   ],
   "source": [
    "minimunRec([4,5,3,24,5,7,1,-5,-6,-3,-1,-90000])"
   ]
  },
  {
   "cell_type": "code",
   "execution_count": 24,
   "id": "d420d4a6",
   "metadata": {},
   "outputs": [
    {
     "data": {
      "text/plain": [
       "10"
      ]
     },
     "execution_count": 24,
     "metadata": {},
     "output_type": "execute_result"
    }
   ],
   "source": [
    "count = 0\n",
    "for i in array:\n",
    "    count += 1\n",
    "count"
   ]
  },
  {
   "cell_type": "code",
   "execution_count": 25,
   "id": "73e25797",
   "metadata": {
    "scrolled": true
   },
   "outputs": [
    {
     "data": {
      "text/plain": [
       "10"
      ]
     },
     "execution_count": 25,
     "metadata": {},
     "output_type": "execute_result"
    }
   ],
   "source": [
    "len(array)"
   ]
  },
  {
   "cell_type": "code",
   "execution_count": 26,
   "id": "81f2604b",
   "metadata": {},
   "outputs": [
    {
     "data": {
      "text/plain": [
       "0"
      ]
     },
     "execution_count": 26,
     "metadata": {},
     "output_type": "execute_result"
    }
   ],
   "source": [
    "count2 = 0\n",
    "for i in []:\n",
    "    count += 1\n",
    "count2"
   ]
  },
  {
   "cell_type": "code",
   "execution_count": 27,
   "id": "68df8ff9",
   "metadata": {},
   "outputs": [
    {
     "name": "stdout",
     "output_type": "stream",
     "text": [
      "miau\n"
     ]
    }
   ],
   "source": [
    "for i in range(1):\n",
    "    print('miau')"
   ]
  },
  {
   "cell_type": "code",
   "execution_count": 28,
   "id": "7e56efd1",
   "metadata": {},
   "outputs": [
    {
     "data": {
      "text/plain": [
       "0"
      ]
     },
     "execution_count": 28,
     "metadata": {},
     "output_type": "execute_result"
    }
   ],
   "source": [
    "len([])"
   ]
  },
  {
   "cell_type": "code",
   "execution_count": 29,
   "id": "bb46b989",
   "metadata": {},
   "outputs": [],
   "source": [
    "def min3(a):\n",
    "    if len(a)==1:\n",
    "        return a[0]\n",
    "    else:\n",
    "        if a[len(a)-1] < a[0]:\n",
    "            a[0] = a[len(a)-1]\n",
    "            a.remove(a[0])\n",
    "            return min3(a)\n",
    "        else: \n",
    "            a.remove(a[len(a)-1])\n",
    "            return min3(a)"
   ]
  },
  {
   "cell_type": "code",
   "execution_count": 30,
   "id": "16de62b2",
   "metadata": {},
   "outputs": [
    {
     "data": {
      "text/plain": [
       "-6"
      ]
     },
     "execution_count": 30,
     "metadata": {},
     "output_type": "execute_result"
    }
   ],
   "source": [
    "min3([4,5,3,24,5,7,1,-5,-6,-3])"
   ]
  },
  {
   "cell_type": "code",
   "execution_count": 31,
   "id": "05e0539b",
   "metadata": {},
   "outputs": [
    {
     "data": {
      "text/plain": [
       "4"
      ]
     },
     "execution_count": 31,
     "metadata": {},
     "output_type": "execute_result"
    }
   ],
   "source": [
    "array = [4,5,3,24,5,7,1,-5,-6,-3]\n",
    "array.pop(0)"
   ]
  },
  {
   "cell_type": "code",
   "execution_count": 32,
   "id": "a52d82ba",
   "metadata": {
    "scrolled": true
   },
   "outputs": [
    {
     "data": {
      "text/plain": [
       "[5, 3, 24, 5, 7, 1, -5, -6, -3]"
      ]
     },
     "execution_count": 32,
     "metadata": {},
     "output_type": "execute_result"
    }
   ],
   "source": [
    "array"
   ]
  },
  {
   "cell_type": "markdown",
   "id": "b8219370",
   "metadata": {},
   "source": [
    "### Medir tiempo de ejecución"
   ]
  },
  {
   "cell_type": "markdown",
   "id": "c7e9131a",
   "metadata": {},
   "source": [
    "#### Librerias"
   ]
  },
  {
   "cell_type": "code",
   "execution_count": 33,
   "id": "46393902",
   "metadata": {},
   "outputs": [],
   "source": [
    "from matplotlib import pyplot\n",
    "import random\n",
    "import time \n",
    "import matplotlib.pyplot as plt"
   ]
  },
  {
   "cell_type": "markdown",
   "id": "119f1289",
   "metadata": {},
   "source": [
    "#### Medir tiempo"
   ]
  },
  {
   "cell_type": "code",
   "execution_count": 34,
   "id": "d9c03355",
   "metadata": {},
   "outputs": [],
   "source": [
    "def mide_tiempo(funcion, *args):\n",
    "    start_time = time.time() \n",
    "    funcion(*args)\n",
    "    elapsed_time = time.time() - start_time\n",
    "    return (elapsed_time)"
   ]
  },
  {
   "cell_type": "markdown",
   "id": "968127f0",
   "metadata": {},
   "source": [
    "#### Ploteo en listas y funcion (con paránetros)"
   ]
  },
  {
   "cell_type": "code",
   "execution_count": 35,
   "id": "ce58d9bf",
   "metadata": {},
   "outputs": [],
   "source": [
    "def mktimegraph(functions, names, xpoints):\n",
    "    ypoints = [[1000*mide_tiempo(f,x) for f in functions] for x in lista(max(xpoints)+2)]\n",
    "    plt.plot(xpoints, ypoints)\n",
    "    plt.xlabel('Tamaño (n)')\n",
    "    plt.ylabel('Tiempo (nsegs)')\n",
    "    plt.legend(names)"
   ]
  },
  {
   "cell_type": "code",
   "execution_count": 36,
   "id": "a5709629",
   "metadata": {},
   "outputs": [],
   "source": [
    "def mktimegraph2(functions, names, xpoints):\n",
    "    ypoints = [[1000*mide_tiempo(f,x) for f in functions] for x in xpoints]\n",
    "    plt.plot(xpoints, ypoints)\n",
    "    plt.xlabel('Tamaño (n)')\n",
    "    plt.ylabel('Tiempo (nsegs)')\n",
    "    plt.legend(names)"
   ]
  },
  {
   "cell_type": "markdown",
   "id": "f99b5c5c",
   "metadata": {},
   "source": [
    "#### Generar listas de longitud creciente"
   ]
  },
  {
   "cell_type": "code",
   "execution_count": 37,
   "id": "52d7d745",
   "metadata": {},
   "outputs": [],
   "source": [
    "def generar_lista_enteros(longitud):\n",
    "    return [random.sample(range(100), i)  for i in range(longitud)]"
   ]
  },
  {
   "cell_type": "code",
   "execution_count": 38,
   "id": "33ec1e82",
   "metadata": {},
   "outputs": [],
   "source": [
    "def lista(longitud):\n",
    "    return [list(range(i)) for i in range(1,longitud)]"
   ]
  },
  {
   "cell_type": "code",
   "execution_count": 39,
   "id": "c2ba14bf",
   "metadata": {
    "scrolled": false
   },
   "outputs": [
    {
     "data": {
      "text/plain": [
       "[[0],\n",
       " [0, 1],\n",
       " [0, 1, 2],\n",
       " [0, 1, 2, 3],\n",
       " [0, 1, 2, 3, 4],\n",
       " [0, 1, 2, 3, 4, 5],\n",
       " [0, 1, 2, 3, 4, 5, 6],\n",
       " [0, 1, 2, 3, 4, 5, 6, 7],\n",
       " [0, 1, 2, 3, 4, 5, 6, 7, 8]]"
      ]
     },
     "execution_count": 39,
     "metadata": {},
     "output_type": "execute_result"
    }
   ],
   "source": [
    "lista(10)"
   ]
  },
  {
   "cell_type": "code",
   "execution_count": 40,
   "id": "f9271865",
   "metadata": {
    "scrolled": false
   },
   "outputs": [
    {
     "name": "stdout",
     "output_type": "stream",
     "text": [
      "list:  []\n",
      "list:  [72]\n",
      "list:  [4, 52]\n",
      "list:  [88, 14, 32]\n",
      "list:  [60, 61, 31, 17]\n",
      "list:  [96, 11, 75, 65, 58]\n",
      "list:  [34, 17, 19, 4, 88, 96]\n",
      "list:  [17, 74, 53, 85, 56, 83, 48]\n",
      "list:  [36, 56, 96, 38, 40, 98, 48, 78]\n",
      "list:  [41, 89, 79, 97, 47, 87, 31, 52, 75]\n"
     ]
    }
   ],
   "source": [
    "for i in generar_lista_enteros(10): \n",
    "    print(\"list: \", i)"
   ]
  },
  {
   "cell_type": "code",
   "execution_count": 41,
   "id": "800db32f",
   "metadata": {
    "scrolled": true
   },
   "outputs": [],
   "source": [
    "#generar_lista_enteros(max(x))"
   ]
  },
  {
   "cell_type": "code",
   "execution_count": 42,
   "id": "a8355e9f",
   "metadata": {
    "scrolled": false
   },
   "outputs": [
    {
     "name": "stdout",
     "output_type": "stream",
     "text": [
      "primer iteracion:  0\n",
      "primer iteracion:  3\n",
      "primer iteracion:  7\n",
      "primer iteracion:  78\n",
      "primer iteracion:  64\n",
      "primer iteracion:  7\n",
      "primer iteracion:  84\n",
      "primer iteracion:  20\n",
      "primer iteracion:  75\n",
      "primer iteracion:  16\n"
     ]
    }
   ],
   "source": [
    "for i in generar_lista_enteros(10): \n",
    "    j = minimun(i)\n",
    "    print('primer iteracion: ', j)"
   ]
  },
  {
   "cell_type": "code",
   "execution_count": 43,
   "id": "a3cae507",
   "metadata": {
    "scrolled": false
   },
   "outputs": [],
   "source": [
    "#len([minimun(i) for i in generar_lista_enteros(max(x))])"
   ]
  },
  {
   "cell_type": "code",
   "execution_count": 44,
   "id": "41b7d5c6",
   "metadata": {
    "scrolled": false
   },
   "outputs": [
    {
     "data": {
      "text/plain": [
       "3.0994415283203125e-06"
      ]
     },
     "execution_count": 44,
     "metadata": {},
     "output_type": "execute_result"
    }
   ],
   "source": [
    "mide_tiempo(minimun, [1,2,3,4,5])"
   ]
  },
  {
   "cell_type": "markdown",
   "id": "8032c547",
   "metadata": {},
   "source": [
    "#### Ploteos "
   ]
  },
  {
   "cell_type": "code",
   "execution_count": 45,
   "id": "c67cd27c",
   "metadata": {},
   "outputs": [],
   "source": [
    "x = range(2000)\n",
    "y = range(5,35,1)"
   ]
  },
  {
   "cell_type": "code",
   "execution_count": 46,
   "id": "2ec003e7",
   "metadata": {
    "scrolled": true
   },
   "outputs": [
    {
     "data": {
      "text/plain": [
       "[<matplotlib.lines.Line2D at 0x114714ca0>]"
      ]
     },
     "execution_count": 46,
     "metadata": {},
     "output_type": "execute_result"
    },
    {
     "data": {
      "image/png": "[encoded data removed]",
      "text/plain": [
       "<Figure size 432x288 with 1 Axes>"
      ]
     },
     "metadata": {
      "needs_background": "light"
     },
     "output_type": "display_data"
    }
   ],
   "source": [
    "pyplot.plot(x, [mide_tiempo(minimun, i) for i in lista(max(x)+2)])"
   ]
  },
  {
   "cell_type": "code",
   "execution_count": 47,
   "id": "693d1c3d",
   "metadata": {
    "scrolled": true
   },
   "outputs": [
    {
     "data": {
      "text/plain": [
       "[<matplotlib.lines.Line2D at 0x117707af0>]"
      ]
     },
     "execution_count": 47,
     "metadata": {},
     "output_type": "execute_result"
    },
    {
     "data": {
      "image/png": "[encoded data removed]",
      "text/plain": [
       "<Figure size 432x288 with 1 Axes>"
      ]
     },
     "metadata": {
      "needs_background": "light"
     },
     "output_type": "display_data"
    }
   ],
   "source": [
    "pyplot.plot(x, [mide_tiempo(min2, i) for i in lista(max(x)+2)])"
   ]
  },
  {
   "cell_type": "code",
   "execution_count": 48,
   "id": "50de0611",
   "metadata": {
    "scrolled": false
   },
   "outputs": [
    {
     "data": {
      "image/png": "[encoded data removed]",
      "text/plain": [
       "<Figure size 432x288 with 1 Axes>"
      ]
     },
     "metadata": {
      "needs_background": "light"
     },
     "output_type": "display_data"
    }
   ],
   "source": [
    "mktimegraph([min2], ('minimo iterativo'), x)"
   ]
  },
  {
   "cell_type": "code",
   "execution_count": 49,
   "id": "06e318db",
   "metadata": {
    "scrolled": true
   },
   "outputs": [
    {
     "data": {
      "image/png": "[encoded data removed]",
      "text/plain": [
       "<Figure size 432x288 with 1 Axes>"
      ]
     },
     "metadata": {
      "needs_background": "light"
     },
     "output_type": "display_data"
    }
   ],
   "source": [
    "mktimegraph([min3], ('MIN Rec'), x)"
   ]
  },
  {
   "cell_type": "code",
   "execution_count": 50,
   "id": "721c431a",
   "metadata": {
    "scrolled": false
   },
   "outputs": [
    {
     "data": {
      "text/plain": [
       "[<matplotlib.lines.Line2D at 0x117691e80>]"
      ]
     },
     "execution_count": 50,
     "metadata": {},
     "output_type": "execute_result"
    },
    {
     "data": {
      "image/png": "[encoded data removed]",
      "text/plain": [
       "<Figure size 432x288 with 1 Axes>"
      ]
     },
     "metadata": {
      "needs_background": "light"
     },
     "output_type": "display_data"
    }
   ],
   "source": [
    "pyplot.plot(x, x)"
   ]
  },
  {
   "cell_type": "code",
   "execution_count": 51,
   "id": "808fa93f",
   "metadata": {},
   "outputs": [],
   "source": [
    "def fibo(n):\n",
    "    a=[0,1]\n",
    "    for i in range(2,n+1):\n",
    "        a.append(a[i-1]+a[i-2])\n",
    "    return a[n]"
   ]
  },
  {
   "cell_type": "code",
   "execution_count": 52,
   "id": "0ab1a29f",
   "metadata": {
    "scrolled": false
   },
   "outputs": [
    {
     "data": {
      "text/plain": [
       "[<matplotlib.lines.Line2D at 0x114742490>]"
      ]
     },
     "execution_count": 52,
     "metadata": {},
     "output_type": "execute_result"
    },
    {
     "data": {
      "image/png": "[encoded data removed]",
      "text/plain": [
       "<Figure size 432x288 with 1 Axes>"
      ]
     },
     "metadata": {
      "needs_background": "light"
     },
     "output_type": "display_data"
    }
   ],
   "source": [
    "pyplot.plot(x, [mide_tiempo(fibo, i) for i in x])"
   ]
  },
  {
   "cell_type": "code",
   "execution_count": 53,
   "id": "7e3741ca",
   "metadata": {
    "scrolled": true
   },
   "outputs": [
    {
     "data": {
      "image/png": "[encoded data removed]",
      "text/plain": [
       "<Figure size 432x288 with 1 Axes>"
      ]
     },
     "metadata": {
      "needs_background": "light"
     },
     "output_type": "display_data"
    }
   ],
   "source": [
    "mktimegraph2([fibo], ('fibo iterativo'), x)"
   ]
  },
  {
   "cell_type": "code",
   "execution_count": 54,
   "id": "92c12b37",
   "metadata": {},
   "outputs": [],
   "source": [
    "def min_in_array_rec(arr):\n",
    "    if len(arr) == 1:\n",
    "        return arr[0]\n",
    "    return min(min_in_array_rec(arr[:-1]), arr[-1])"
   ]
  },
  {
   "cell_type": "code",
   "execution_count": 55,
   "id": "43186a5d",
   "metadata": {
    "scrolled": true
   },
   "outputs": [],
   "source": [
    "#mktimegraph([min_in_array_rec], ('MIN by Rec'), x)"
   ]
  },
  {
   "cell_type": "code",
   "execution_count": 56,
   "id": "c73ab1c5",
   "metadata": {
    "scrolled": true
   },
   "outputs": [
    {
     "data": {
      "image/png": "[encoded data removed]",
      "text/plain": [
       "<Figure size 432x288 with 1 Axes>"
      ]
     },
     "metadata": {
      "needs_background": "light"
     },
     "output_type": "display_data"
    }
   ],
   "source": [
    "# Función cuadrática.\n",
    "def f1(x):\n",
    "    return 2*(x**2) + 5*x - 2\n",
    "# Función lineal.\n",
    "def f2(x):\n",
    "    return 4*x + 1\n",
    "# Valores del eje X que toma el gráfico.\n",
    "x = range(-10, 15)\n",
    "# Graficar ambas funciones.\n",
    "pyplot.plot(x, [f1(i) for i in x])\n",
    "pyplot.plot(x, [f2(i) for i in x])\n",
    "# Establecer el color de los ejes.\n",
    "pyplot.axhline(0, color=\"black\")\n",
    "pyplot.axvline(0, color=\"black\")\n",
    "# Limitar los valores de los ejes.\n",
    "pyplot.xlim(-10, 10)\n",
    "pyplot.ylim(-10, 10)\n",
    "# Mostrarlo.\n",
    "pyplot.show()"
   ]
  },
  {
   "cell_type": "markdown",
   "id": "008802ba",
   "metadata": {},
   "source": [
    "#### Índice mínimo de un array "
   ]
  },
  {
   "cell_type": "code",
   "execution_count": 57,
   "id": "539f6f04",
   "metadata": {},
   "outputs": [],
   "source": [
    "def indMin(a,x): \n",
    "    for i in range(len(a)):\n",
    "        if a[i] == x:\n",
    "            indice = i\n",
    "            break\n",
    "        else:\n",
    "            indice = -1\n",
    "    return indice"
   ]
  },
  {
   "cell_type": "code",
   "execution_count": 58,
   "id": "57751038",
   "metadata": {},
   "outputs": [
    {
     "data": {
      "text/plain": [
       "5"
      ]
     },
     "execution_count": 58,
     "metadata": {},
     "output_type": "execute_result"
    }
   ],
   "source": [
    "indMin([1,2,2,2,2,3,3], 3)"
   ]
  },
  {
   "cell_type": "code",
   "execution_count": 59,
   "id": "5823633c",
   "metadata": {
    "scrolled": true
   },
   "outputs": [
    {
     "data": {
      "text/plain": [
       "-1"
      ]
     },
     "execution_count": 59,
     "metadata": {},
     "output_type": "execute_result"
    }
   ],
   "source": [
    "indMin([1,1,1,1,1,1,1,1,1], 2)"
   ]
  },
  {
   "cell_type": "code",
   "execution_count": 60,
   "id": "c4fd0f3f",
   "metadata": {
    "scrolled": true
   },
   "outputs": [],
   "source": [
    "z = range(0,1000)"
   ]
  }
 ],
 "metadata": {
  "kernelspec": {
   "display_name": "Python 3",
   "language": "python",
   "name": "python3"
  },
  "language_info": {
   "codemirror_mode": {
    "name": "ipython",
    "version": 3
   },
   "file_extension": ".py",
   "mimetype": "text/x-python",
   "name": "python",
   "nbconvert_exporter": "python",
   "pygments_lexer": "ipython3",
   "version": "3.8.8"
  }
 },
 "nbformat": 4,
 "nbformat_minor": 5
}
